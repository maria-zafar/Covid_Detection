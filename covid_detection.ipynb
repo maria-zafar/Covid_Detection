{
  "nbformat": 4,
  "nbformat_minor": 0,
  "metadata": {
    "accelerator": "TPU",
    "colab": {
      "name": "DL-ProjectPartIII-Maria.ipynb",
      "provenance": [],
      "collapsed_sections": []
    },
    "kernelspec": {
      "display_name": "Python 3",
      "name": "python3"
    }
  },
  "cells": [
    {
      "cell_type": "code",
      "metadata": {
        "colab": {
          "base_uri": "https://localhost:8080/"
        },
        "id": "nIJXSAZoqhmb",
        "outputId": "1cb8044a-4f3b-4ee5-920d-ed138a8c5a14"
      },
      "source": [
        "from google.colab import drive\n",
        "drive.mount('/content/drive')"
      ],
      "execution_count": null,
      "outputs": [
        {
          "output_type": "stream",
          "text": [
            "Drive already mounted at /content/drive; to attempt to forcibly remount, call drive.mount(\"/content/drive\", force_remount=True).\n"
          ],
          "name": "stdout"
        }
      ]
    },
    {
      "cell_type": "code",
      "metadata": {
        "colab": {
          "base_uri": "https://localhost:8080/"
        },
        "id": "QE7tAJT5HWoK",
        "outputId": "306b5928-6b3e-44b7-a09f-082a2c75eb00"
      },
      "source": [
        "# !pip uninstall scipy\n",
        "\n",
        "!pip install scipy==1.1.0"
      ],
      "execution_count": null,
      "outputs": [
        {
          "output_type": "stream",
          "text": [
            "Requirement already satisfied: scipy==1.1.0 in /usr/local/lib/python3.6/dist-packages (1.1.0)\n",
            "Requirement already satisfied: numpy>=1.8.2 in /usr/local/lib/python3.6/dist-packages (from scipy==1.1.0) (1.19.4)\n"
          ],
          "name": "stdout"
        }
      ]
    },
    {
      "cell_type": "code",
      "metadata": {
        "id": "IJGEEHKZMT7d"
      },
      "source": [
        "from tensorflow.python.keras.layers.core import Layer\n",
        "import tensorflow as tf\n",
        "%matplotlib inline\n",
        "\n",
        "import numpy as np\n",
        "np.random.seed(1337)  # for reproducibility\n",
        "import matplotlib.pyplot as plt\n",
        "\n",
        "from tensorflow.keras.datasets import mnist\n",
        "from tensorflow.keras.models import Sequential\n",
        "from keras.layers.core import Dense, Dropout, Activation, Flatten\n",
        "from tensorflow.keras.layers import Conv2D,MaxPool2D\n",
        "# from keras.layers.convolutional import Convolution2D, MaxPooling2D\n",
        "from keras.utils import np_utils\n",
        "from keras.utils import np_utils, generic_utils\n",
        "from tensorflow.keras.optimizers import Adam, SGD\n",
        "\n",
        "import tensorflow.keras.backend as K\n",
        "\n",
        "from sklearn.model_selection import train_test_split\n",
        "\n",
        "from numpy import asarray\n",
        "from numpy import unique\n",
        "from numpy import argmax\n",
        "from tensorflow.keras.datasets.mnist import load_data\n",
        "from tensorflow.keras.preprocessing.image import ImageDataGenerator\n",
        "\n",
        "# import matplotlib.pyplot as plt\n",
        "# import numpy as np\n",
        "import os\n",
        "from PIL import Image\n",
        "# import tensorflow as tf\n",
        "import imageio\n",
        "# from scipy.misc import imresize"
      ],
      "execution_count": null,
      "outputs": []
    },
    {
      "cell_type": "code",
      "metadata": {
        "id": "q2VZyhwsHAjY"
      },
      "source": [
        "class SpatialTransformer(Layer):\n",
        "    \"\"\"Spatial Transformer Layer\n",
        "    Implements a spatial transformer layer as described in [1]_.\n",
        "    Borrowed from [2]_:\n",
        "    downsample_fator : float\n",
        "    References\n",
        "    ----------\n",
        "    .. [1]  Spatial Transformer Networks\n",
        "            Max Jaderberg, Karen Simonyan, Andrew Zisserman, Koray Kavukcuoglu\n",
        "            Submitted on 5 Jun 2015\n",
        "    .. [2]  https://github.com/skaae/transformer_network/blob/master/transformerlayer.py\n",
        "    .. [3]  https://github.com/EderSantana/seya/blob/keras1/seya/layers/attention.py\n",
        "    \"\"\"\n",
        "\n",
        "    def __init__(self,\n",
        "                 localization_net,\n",
        "                 output_size,\n",
        "                 **kwargs):\n",
        "        self.locnet = localization_net\n",
        "        self.output_size = output_size\n",
        "        super(SpatialTransformer, self).__init__(**kwargs)\n",
        "\n",
        "    def build(self, input_shape):\n",
        "        self.locnet.build(input_shape)\n",
        "        self.trainable = self.locnet.trainable_weights\n",
        "        # self.constraints = self.locnet.constraints\n",
        "\n",
        "    def compute_output_shape(self, input_shape):\n",
        "        output_size = self.output_size\n",
        "        return (None,\n",
        "                int(output_size[0]),\n",
        "                int(output_size[1]),\n",
        "                int(input_shape[-1]))\n",
        "\n",
        "    def call(self, X, mask=None):\n",
        "        affine_transformation = self.locnet.call(X)\n",
        "        output = self._transform(affine_transformation, X, self.output_size)\n",
        "        return output\n",
        "\n",
        "    def _repeat(self, x, num_repeats):\n",
        "        ones = tf.ones((1, num_repeats), dtype='int32')\n",
        "        x = tf.reshape(x, shape=(-1,1))\n",
        "        x = tf.matmul(x, ones)\n",
        "        return tf.reshape(x, [-1])\n",
        "\n",
        "    def _interpolate(self, image, x, y, output_size):\n",
        "        batch_size = tf.shape(image)[0]\n",
        "        height = tf.shape(image)[1]\n",
        "        width = tf.shape(image)[2]\n",
        "        num_channels = tf.shape(image)[3]\n",
        "\n",
        "        x = tf.cast(x , dtype='float32')\n",
        "        y = tf.cast(y , dtype='float32')\n",
        "\n",
        "        height_float = tf.cast(height, dtype='float32')\n",
        "        width_float = tf.cast(width, dtype='float32')\n",
        "\n",
        "        output_height = output_size[0]\n",
        "        output_width  = output_size[1]\n",
        "\n",
        "        x = .5*(x + 1.0)*width_float\n",
        "        y = .5*(y + 1.0)*height_float\n",
        "\n",
        "        x0 = tf.cast(tf.floor(x), 'int32')\n",
        "        x1 = x0 + 1\n",
        "        y0 = tf.cast(tf.floor(y), 'int32')\n",
        "        y1 = y0 + 1\n",
        "\n",
        "        max_y = tf.cast(height - 1, dtype='int32')\n",
        "        max_x = tf.cast(width - 1,  dtype='int32')\n",
        "        zero = tf.zeros([], dtype='int32')\n",
        "\n",
        "        x0 = tf.clip_by_value(x0, zero, max_x)\n",
        "        x1 = tf.clip_by_value(x1, zero, max_x)\n",
        "        y0 = tf.clip_by_value(y0, zero, max_y)\n",
        "        y1 = tf.clip_by_value(y1, zero, max_y)\n",
        "\n",
        "        flat_image_dimensions = width*height\n",
        "        pixels_batch = tf.range(batch_size)*flat_image_dimensions\n",
        "        flat_output_dimensions = output_height*output_width\n",
        "        base = self._repeat(pixels_batch, flat_output_dimensions)\n",
        "        base_y0 = base + y0*width\n",
        "        base_y1 = base + y1*width\n",
        "        indices_a = base_y0 + x0\n",
        "        indices_b = base_y1 + x0\n",
        "        indices_c = base_y0 + x1\n",
        "        indices_d = base_y1 + x1\n",
        "\n",
        "        flat_image = tf.reshape(image, shape=(-1, num_channels))\n",
        "        flat_image = tf.cast(flat_image, dtype='float32')\n",
        "        pixel_values_a = tf.gather(flat_image, indices_a)\n",
        "        pixel_values_b = tf.gather(flat_image, indices_b)\n",
        "        pixel_values_c = tf.gather(flat_image, indices_c)\n",
        "        pixel_values_d = tf.gather(flat_image, indices_d)\n",
        "\n",
        "        x0 = tf.cast(x0, 'float32')\n",
        "        x1 = tf.cast(x1, 'float32')\n",
        "        y0 = tf.cast(y0, 'float32')\n",
        "        y1 = tf.cast(y1, 'float32')\n",
        "\n",
        "        area_a = tf.expand_dims(((x1 - x) * (y1 - y)), 1)\n",
        "        area_b = tf.expand_dims(((x1 - x) * (y - y0)), 1)\n",
        "        area_c = tf.expand_dims(((x - x0) * (y1 - y)), 1)\n",
        "        area_d = tf.expand_dims(((x - x0) * (y - y0)), 1)\n",
        "        output = tf.add_n([area_a*pixel_values_a,\n",
        "                           area_b*pixel_values_b,\n",
        "                           area_c*pixel_values_c,\n",
        "                           area_d*pixel_values_d])\n",
        "        return output\n",
        "\n",
        "    def _meshgrid(self, height, width):\n",
        "        x_linspace = tf.linspace(-1., 1., width)\n",
        "        y_linspace = tf.linspace(-1., 1., height)\n",
        "        x_coordinates, y_coordinates = tf.meshgrid(x_linspace, y_linspace)\n",
        "        x_coordinates = tf.reshape(x_coordinates, shape=(1, -1))\n",
        "        y_coordinates = tf.reshape(y_coordinates, shape=(1, -1))\n",
        "        ones = tf.ones_like(x_coordinates)\n",
        "        indices_grid = tf.concat([x_coordinates, y_coordinates, ones], 0)\n",
        "        return indices_grid\n",
        "\n",
        "    def _transform(self, affine_transformation, input_shape, output_size):\n",
        "        batch_size = tf.shape(input_shape)[0]\n",
        "        height = tf.shape(input_shape)[1]\n",
        "        width = tf.shape(input_shape)[2]\n",
        "        # num_channels = tf.shape(input_shape)[3]\n",
        "        num_channels = 1\n",
        "\n",
        "        affine_transformation = tf.reshape(affine_transformation, shape=(batch_size,2,3))\n",
        "\n",
        "        affine_transformation = tf.reshape(affine_transformation, (-1, 2, 3))\n",
        "        affine_transformation = tf.cast(affine_transformation, 'float32')\n",
        "\n",
        "        width = tf.cast(width, dtype='float32')\n",
        "        height = tf.cast(height, dtype='float32')\n",
        "        output_height = output_size[0]\n",
        "        output_width = output_size[1]\n",
        "        indices_grid = self._meshgrid(output_height, output_width)\n",
        "        indices_grid = tf.expand_dims(indices_grid, 0)\n",
        "        indices_grid = tf.reshape(indices_grid, [-1]) # flatten?\n",
        "        indices_grid = tf.tile(indices_grid, tf.stack([batch_size]))\n",
        "        indices_grid = tf.reshape(indices_grid, tf.stack([batch_size, 3, -1]))\n",
        "\n",
        "        # transformed_grid = tf.batch_matmul(affine_transformation, indices_grid)\n",
        "        transformed_grid = tf.matmul(affine_transformation, indices_grid)\n",
        "        x_s = tf.slice(transformed_grid, [0, 0, 0], [-1, 1, -1])\n",
        "        y_s = tf.slice(transformed_grid, [0, 1, 0], [-1, 1, -1])\n",
        "        x_s_flatten = tf.reshape(x_s, [-1])\n",
        "        y_s_flatten = tf.reshape(y_s, [-1])\n",
        "\n",
        "        transformed_image = self._interpolate(input_shape,\n",
        "                                              x_s_flatten,\n",
        "                                              y_s_flatten,\n",
        "                                              output_size)\n",
        "\n",
        "        transformed_image = tf.reshape(transformed_image, shape=(batch_size,\n",
        "                                                                 output_height,\n",
        "                                                                 output_width,\n",
        "                                                                 num_channels))\n",
        "        return transformed_image"
      ],
      "execution_count": null,
      "outputs": []
    },
    {
      "cell_type": "code",
      "metadata": {
        "id": "SoH-JMQHHWjJ"
      },
      "source": [
        "batch_size = 128\n",
        "nb_classes = 2\n",
        "nb_epoch = 12\n"
      ],
      "execution_count": null,
      "outputs": []
    },
    {
      "cell_type": "code",
      "metadata": {
        "id": "aTJA-_OaHWfq"
      },
      "source": [
        "IMG_WIDTH=440\n",
        "IMG_HEIGHT=440\n",
        "\n",
        "img_folder=r'/content/drive/MyDrive/pocus-dataset'\n",
        "\n",
        "def create_dataset_PIL(img_folder):\n",
        "    \n",
        "    img_data_array=[]\n",
        "    class_name=[]\n",
        "    for dir1 in os.listdir(img_folder):\n",
        "        for file in os.listdir(os.path.join(img_folder, dir1)):\n",
        "            #print(file)\n",
        "            image_path= os.path.join(img_folder, dir1,  file)\n",
        "            \n",
        "            img_read=Image.open(image_path)\n",
        "            # print(img_read.mode)\n",
        "           \n",
        "            img_read = img_read.convert('RGB')\n",
        "            image= np.array(img_read)\n",
        "            image= np.resize(image,(IMG_HEIGHT,IMG_WIDTH,1))\n",
        "           \n",
        "            image = image.astype('float32')\n",
        "            image /= 255 \n",
        "            img_data_array.append(image)\n",
        "            class_name.append(dir1)\n",
        "    return img_data_array , class_name\n",
        "\n",
        "PIL_img_data, class_name=create_dataset_PIL(img_folder)\n",
        "\n",
        "target_dict={k: v for v, k in enumerate(np.unique(class_name))}\n",
        "#target_dict\n",
        "target_val=  [target_dict[class_name[i]] for i in range(len(class_name))]\n",
        "n_classes=len(target_dict)\n",
        "\n",
        "data=np.array(PIL_img_data)"
      ],
      "execution_count": null,
      "outputs": []
    },
    {
      "cell_type": "code",
      "metadata": {
        "colab": {
          "base_uri": "https://localhost:8080/"
        },
        "id": "8iac8-1THWbp",
        "outputId": "18936204-47cc-485f-d659-24b66222daba"
      },
      "source": [
        "X_train, X_valid, y_train, y_valid = train_test_split(data, np.array(target_val), test_size=0.30)\n",
        "\n",
        "img_folder=r'/content/drive/MyDrive/test-pocus-dataset'\n",
        "\n",
        "PIL_img_data, class_name=create_dataset_PIL(img_folder)\n",
        "\n",
        "target_dict={k: v for v, k in enumerate(np.unique(class_name))}\n",
        "#target_dict\n",
        "target_val=  [target_dict[class_name[i]] for i in range(len(class_name))]\n",
        "n_classes=len(target_dict)\n",
        "\n",
        "X_test=np.array(PIL_img_data)\n",
        "y_test=np.array(target_val)\n",
        "print(y_test)"
      ],
      "execution_count": null,
      "outputs": [
        {
          "output_type": "stream",
          "text": [
            "[0 0 0 0 0 0 0 0 1 1 1]\n"
          ],
          "name": "stdout"
        }
      ]
    },
    {
      "cell_type": "code",
      "metadata": {
        "colab": {
          "base_uri": "https://localhost:8080/"
        },
        "id": "7TahqsBGHWWA",
        "outputId": "8c85870d-0e29-4b12-9e36-f48c5a5c1d43"
      },
      "source": [
        "DIM = 440\n",
        "\n",
        "# reshape for convolutions\n",
        "X_train = X_train.reshape((X_train.shape[0], DIM, DIM, 1))\n",
        "X_valid = X_valid.reshape((X_valid.shape[0], DIM, DIM, 1))\n",
        "X_test = X_test.reshape((X_test.shape[0], DIM, DIM, 1))\n",
        "\n",
        "y_train = np_utils.to_categorical(y_train, nb_classes)\n",
        "y_valid = np_utils.to_categorical(y_valid, nb_classes)\n",
        "y_test = np_utils.to_categorical(y_test, nb_classes)\n",
        "\n",
        "print(\"Train samples: {}\".format(X_train.shape))\n",
        "print(\"Validation samples: {}\".format(X_valid.shape))\n",
        "print(\"Test samples: {}\".format(X_test.shape))\n",
        "\n",
        "\n",
        "input_shape =  np.squeeze(X_train.shape[1:])\n",
        "input_shape = (440,440,1)\n",
        "print(\"Input shape:\",input_shape)\n",
        "print(y_train)"
      ],
      "execution_count": null,
      "outputs": [
        {
          "output_type": "stream",
          "text": [
            "Train samples: (1903, 440, 440, 1)\n",
            "Validation samples: (816, 440, 440, 1)\n",
            "Test samples: (11, 440, 440, 1)\n",
            "Input shape: (440, 440, 1)\n",
            "[[0. 1.]\n",
            " [0. 1.]\n",
            " [1. 0.]\n",
            " ...\n",
            " [1. 0.]\n",
            " [0. 1.]\n",
            " [0. 1.]]\n"
          ],
          "name": "stdout"
        }
      ]
    },
    {
      "cell_type": "code",
      "metadata": {
        "colab": {
          "base_uri": "https://localhost:8080/",
          "height": 432
        },
        "id": "Dzd5FJe5HWRs",
        "outputId": "d355ccac-938a-450d-cb29-636ee571ac44"
      },
      "source": [
        "plt.figure(figsize=(7,7))\n",
        "plt.imshow(X_train[101].reshape(DIM, DIM), cmap='gray', interpolation='none')\n",
        "plt.title('POCUS', fontsize=20)\n",
        "plt.axis('off')\n",
        "plt.show()"
      ],
      "execution_count": null,
      "outputs": [
        {
          "output_type": "display_data",
          "data": {
            "image/png": "[encoded data removed]",
            "text/plain": [
              "<Figure size 504x504 with 1 Axes>"
            ]
          },
          "metadata": {
            "tags": [],
            "needs_background": "light"
          }
        }
      ]
    },
    {
      "cell_type": "code",
      "metadata": {
        "id": "fyLQGATWHWOt"
      },
      "source": [
        "# initial weights\n",
        "b = np.zeros((2, 3), dtype='float32')\n",
        "b[0, 0] = 1\n",
        "b[1, 1] = 1\n",
        "W = np.zeros((96800, 6), dtype='float32')\n",
        "weights = [W, b.flatten()]"
      ],
      "execution_count": null,
      "outputs": []
    },
    {
      "cell_type": "code",
      "metadata": {
        "id": "CYk78gbUHWBV"
      },
      "source": [
        "from keras.layers.core import Dense, Dropout, Activation, Flatten\n",
        "from keras.layers.convolutional import Convolution2D, MaxPooling2D\n",
        "from keras.optimizers import Adam, SGD\n",
        "locnet = Sequential()\n",
        "locnet.add(Convolution2D(16, (3, 3), input_shape = input_shape, padding='same'))\n",
        "locnet.add(Activation('relu'))\n",
        "locnet.add(MaxPooling2D(pool_size=(2,2)))\n",
        "locnet.add(Convolution2D(8, (3, 3), padding='same' ))\n",
        "locnet.add(Activation('relu'))\n",
        "locnet.add(MaxPooling2D(pool_size=(2,2)))\n",
        "\n",
        "locnet.add(Flatten())\n",
        "#locnet.add(Dense(100))\n",
        "locnet.add(Activation('sigmoid'))\n",
        "locnet.add(Dense(6, weights=weights))\n",
        "locnet.add(Activation('sigmoid'))\n",
        "\n"
      ],
      "execution_count": null,
      "outputs": []
    },
    {
      "cell_type": "code",
      "metadata": {
        "id": "RQGJj-QBXPoR"
      },
      "source": [
        "##Alternative Layer for STN\n",
        "#locnet = Sequential()\n",
        "# locnet.add(MaxPool2D(pool_size=(2,2), input_shape=input_shape))\n",
        "# locnet.add(Conv2D(32, (5, 5)))\n",
        "# locnet.add(MaxPool2D(pool_size=(2,2)))\n",
        "# locnet.add(Conv2D(32, (5, 5)))\n",
        "\n",
        "# locnet.add(Flatten())\n",
        "# locnet.add(Dense(50))\n",
        "# locnet.add(Activation('relu'))\n",
        "# locnet.add(Dense(6, weights=weights))\n",
        "#locnet.add(Activation('sigmoid'))\n",
        "# locnet.add(Conv2D(1, 8, kernel_size=7),MaxPool2D(2, stride=2),ReLU(True),Conv2D(8, 10, kernel_size=5),MaxPool2D(2, stride=2),ReLU(True))"
      ],
      "execution_count": null,
      "outputs": []
    },
    {
      "cell_type": "code",
      "metadata": {
        "id": "v-FVDycJHtX5"
      },
      "source": [
        "model = Sequential()\n",
        "\n",
        "model.add(SpatialTransformer(localization_net=locnet,output_size=(30,30), input_shape=input_shape))\n",
        "\n",
        "model.add(Conv2D(32, kernel_size=(3, 3),input_shape=input_shape))\n",
        "model.add(Activation('relu'))\n",
        "model.add(MaxPool2D(pool_size=(2, 2)))\n",
        "\n",
        "model.add(Conv2D(32, (3, 3)))\n",
        "model.add(Activation('relu'))\n",
        "model.add(MaxPool2D(pool_size=(2, 2)))\n",
        "\n",
        "model.add(Conv2D(64, (3, 3)))\n",
        "model.add(Activation('relu'))\n",
        "model.add(MaxPool2D(pool_size=(2, 2)))\n",
        "\n",
        "# model.add(Conv2D(64, (2, 2)))\n",
        "# model.add(Activation('relu'))\n",
        "# model.add(MaxPool2D(pool_size=(1, 1)))\n",
        "\n",
        "model.add(Flatten())\n",
        "model.add(Dense(256))\n",
        "model.add(Activation('relu'))\n",
        "\n",
        "model.add(Dense(nb_classes))\n",
        "model.add(Activation('softmax'))\n",
        "\n",
        "model.compile(loss='binary_crossentropy', optimizer='adam',metrics=['accuracy'])"
      ],
      "execution_count": null,
      "outputs": []
    },
    {
      "cell_type": "code",
      "metadata": {
        "id": "lDDCcVg7HtUj"
      },
      "source": [
        "XX = model.input\n",
        "YY = model.layers[0].output\n",
        "F = K.function([XX], [YY])"
      ],
      "execution_count": null,
      "outputs": []
    },
    {
      "cell_type": "code",
      "metadata": {
        "colab": {
          "base_uri": "https://localhost:8080/"
        },
        "id": "J0jKPiE2HtRW",
        "outputId": "6bf962f0-56cc-4e75-f2e8-b40ac81ad1da"
      },
      "source": [
        "print(X_train.shape[0]/batch_size)"
      ],
      "execution_count": null,
      "outputs": [
        {
          "output_type": "stream",
          "text": [
            "14.8671875\n"
          ],
          "name": "stdout"
        }
      ]
    },
    {
      "cell_type": "code",
      "metadata": {
        "colab": {
          "base_uri": "https://localhost:8080/"
        },
        "id": "aSSSl1HFFtPJ",
        "outputId": "8079cd74-b6d9-425c-d030-76930a61fbf4"
      },
      "source": [
        "model.fit(X_train, y_train,steps_per_epoch=8, epochs=100, batch_size=128, verbose=1)"
      ],
      "execution_count": null,
      "outputs": [
        {
          "output_type": "stream",
          "text": [
            "Epoch 1/100\n",
            "8/8 [==============================] - 106s 13s/step - loss: 0.6745 - accuracy: 0.6008\n",
            "Epoch 2/100\n",
            "8/8 [==============================] - 101s 13s/step - loss: 0.6242 - accuracy: 0.5555\n",
            "Epoch 3/100\n",
            "8/8 [==============================] - 102s 13s/step - loss: 0.5955 - accuracy: 0.6170\n",
            "Epoch 4/100\n",
            "8/8 [==============================] - 103s 13s/step - loss: 0.5594 - accuracy: 0.6698\n",
            "Epoch 5/100\n",
            "8/8 [==============================] - 108s 13s/step - loss: 0.5268 - accuracy: 0.7225\n",
            "Epoch 6/100\n",
            "8/8 [==============================] - 99s 12s/step - loss: 0.5043 - accuracy: 0.7401\n",
            "Epoch 7/100\n",
            "8/8 [==============================] - 106s 13s/step - loss: 0.4733 - accuracy: 0.7663\n",
            "Epoch 8/100\n",
            "8/8 [==============================] - 107s 13s/step - loss: 0.4950 - accuracy: 0.7474\n",
            "Epoch 9/100\n",
            "8/8 [==============================] - 108s 13s/step - loss: 0.4187 - accuracy: 0.7678\n",
            "Epoch 10/100\n",
            "8/8 [==============================] - 100s 13s/step - loss: 0.3989 - accuracy: 0.7867\n",
            "Epoch 11/100\n",
            "8/8 [==============================] - 100s 13s/step - loss: 0.3496 - accuracy: 0.8420\n",
            "Epoch 12/100\n",
            "8/8 [==============================] - 90s 11s/step - loss: 0.3363 - accuracy: 0.8314\n",
            "Epoch 13/100\n",
            "8/8 [==============================] - 96s 12s/step - loss: 0.2917 - accuracy: 0.8593\n",
            "Epoch 14/100\n",
            "8/8 [==============================] - 105s 14s/step - loss: 0.2623 - accuracy: 0.8904\n",
            "Epoch 15/100\n",
            "8/8 [==============================] - 104s 13s/step - loss: 0.2440 - accuracy: 0.8870\n",
            "Epoch 16/100\n",
            "8/8 [==============================] - 91s 11s/step - loss: 0.2269 - accuracy: 0.8883\n",
            "Epoch 17/100\n",
            "8/8 [==============================] - 88s 11s/step - loss: 0.1908 - accuracy: 0.9175\n",
            "Epoch 18/100\n",
            "8/8 [==============================] - 89s 11s/step - loss: 0.1830 - accuracy: 0.9308\n",
            "Epoch 19/100\n",
            "8/8 [==============================] - 91s 11s/step - loss: 0.1643 - accuracy: 0.9292\n",
            "Epoch 20/100\n",
            "8/8 [==============================] - 91s 11s/step - loss: 0.1910 - accuracy: 0.9051\n",
            "Epoch 21/100\n",
            "8/8 [==============================] - 93s 12s/step - loss: 0.1625 - accuracy: 0.9331\n",
            "Epoch 22/100\n",
            "8/8 [==============================] - 95s 12s/step - loss: 0.1403 - accuracy: 0.9287\n",
            "Epoch 23/100\n",
            "8/8 [==============================] - 91s 11s/step - loss: 0.1462 - accuracy: 0.9355\n",
            "Epoch 24/100\n",
            "8/8 [==============================] - 98s 12s/step - loss: 0.1458 - accuracy: 0.9323\n",
            "Epoch 25/100\n",
            "8/8 [==============================] - 94s 12s/step - loss: 0.1284 - accuracy: 0.9443\n",
            "Epoch 26/100\n",
            "8/8 [==============================] - 100s 13s/step - loss: 0.1283 - accuracy: 0.9537\n",
            "Epoch 27/100\n",
            "8/8 [==============================] - 99s 12s/step - loss: 0.1552 - accuracy: 0.9339\n",
            "Epoch 28/100\n",
            "8/8 [==============================] - 97s 12s/step - loss: 0.1277 - accuracy: 0.9459\n",
            "Epoch 29/100\n",
            "8/8 [==============================] - 90s 11s/step - loss: 0.1120 - accuracy: 0.9598\n",
            "Epoch 30/100\n",
            "8/8 [==============================] - 90s 11s/step - loss: 0.0995 - accuracy: 0.9591\n",
            "Epoch 31/100\n",
            "8/8 [==============================] - 90s 11s/step - loss: 0.1192 - accuracy: 0.9471\n",
            "Epoch 32/100\n",
            "8/8 [==============================] - 91s 11s/step - loss: 0.1188 - accuracy: 0.9491\n",
            "Epoch 33/100\n",
            "8/8 [==============================] - 90s 11s/step - loss: 0.1292 - accuracy: 0.9472\n",
            "Epoch 34/100\n",
            "8/8 [==============================] - 90s 11s/step - loss: 0.1125 - accuracy: 0.9506\n",
            "Epoch 35/100\n",
            "8/8 [==============================] - 96s 12s/step - loss: 0.1050 - accuracy: 0.9541\n",
            "Epoch 36/100\n",
            "8/8 [==============================] - 93s 12s/step - loss: 0.1202 - accuracy: 0.9428\n",
            "Epoch 37/100\n",
            "8/8 [==============================] - 92s 12s/step - loss: 0.1006 - accuracy: 0.9570\n",
            "Epoch 38/100\n",
            "8/8 [==============================] - 96s 12s/step - loss: 0.1180 - accuracy: 0.9428\n",
            "Epoch 39/100\n",
            "8/8 [==============================] - 111s 14s/step - loss: 0.1034 - accuracy: 0.9555\n",
            "Epoch 40/100\n",
            "8/8 [==============================] - 114s 14s/step - loss: 0.1054 - accuracy: 0.9595\n",
            "Epoch 41/100\n",
            "8/8 [==============================] - 100s 12s/step - loss: 0.1114 - accuracy: 0.9478\n",
            "Epoch 42/100\n",
            "8/8 [==============================] - 93s 11s/step - loss: 0.0911 - accuracy: 0.9601\n",
            "Epoch 43/100\n",
            "8/8 [==============================] - 90s 11s/step - loss: 0.0921 - accuracy: 0.9503\n",
            "Epoch 44/100\n",
            "8/8 [==============================] - 90s 11s/step - loss: 0.1139 - accuracy: 0.9519\n",
            "Epoch 45/100\n",
            "8/8 [==============================] - 109s 14s/step - loss: 0.0863 - accuracy: 0.9619\n",
            "Epoch 46/100\n",
            "8/8 [==============================] - 111s 14s/step - loss: 0.1013 - accuracy: 0.9445\n",
            "Epoch 47/100\n",
            "8/8 [==============================] - 111s 14s/step - loss: 0.0919 - accuracy: 0.9638\n",
            "Epoch 48/100\n",
            "8/8 [==============================] - 117s 15s/step - loss: 0.0899 - accuracy: 0.9570\n",
            "Epoch 49/100\n",
            "8/8 [==============================] - 111s 14s/step - loss: 0.0889 - accuracy: 0.9608\n",
            "Epoch 50/100\n",
            "8/8 [==============================] - 108s 13s/step - loss: 0.0892 - accuracy: 0.9634\n",
            "Epoch 51/100\n",
            "8/8 [==============================] - 113s 14s/step - loss: 0.0889 - accuracy: 0.9542\n",
            "Epoch 52/100\n",
            "8/8 [==============================] - 112s 14s/step - loss: 0.0833 - accuracy: 0.9656\n",
            "Epoch 53/100\n",
            "8/8 [==============================] - 100s 12s/step - loss: 0.0862 - accuracy: 0.9579\n",
            "Epoch 54/100\n",
            "8/8 [==============================] - 108s 14s/step - loss: 0.0862 - accuracy: 0.9629\n",
            "Epoch 55/100\n",
            "8/8 [==============================] - 105s 13s/step - loss: 0.0915 - accuracy: 0.9548\n",
            "Epoch 56/100\n",
            "8/8 [==============================] - 106s 13s/step - loss: 0.0836 - accuracy: 0.9622\n",
            "Epoch 57/100\n",
            "8/8 [==============================] - 103s 13s/step - loss: 0.0836 - accuracy: 0.9650\n",
            "Epoch 58/100\n",
            "8/8 [==============================] - 105s 13s/step - loss: 0.0715 - accuracy: 0.9651\n",
            "Epoch 59/100\n",
            "8/8 [==============================] - 102s 13s/step - loss: 0.0762 - accuracy: 0.9594\n",
            "Epoch 60/100\n",
            "8/8 [==============================] - 105s 13s/step - loss: 0.0835 - accuracy: 0.9680\n",
            "Epoch 61/100\n",
            "8/8 [==============================] - 110s 14s/step - loss: 0.0889 - accuracy: 0.9604\n",
            "Epoch 62/100\n",
            "8/8 [==============================] - 103s 13s/step - loss: 0.0826 - accuracy: 0.9646\n",
            "Epoch 63/100\n",
            "8/8 [==============================] - 102s 13s/step - loss: 0.0805 - accuracy: 0.9612\n",
            "Epoch 64/100\n",
            "8/8 [==============================] - 110s 14s/step - loss: 0.0771 - accuracy: 0.9663\n",
            "Epoch 65/100\n",
            "8/8 [==============================] - 105s 13s/step - loss: 0.0805 - accuracy: 0.9606\n",
            "Epoch 66/100\n",
            "8/8 [==============================] - 112s 14s/step - loss: 0.0805 - accuracy: 0.9580\n",
            "Epoch 67/100\n",
            "8/8 [==============================] - 110s 14s/step - loss: 0.0878 - accuracy: 0.9557\n",
            "Epoch 68/100\n",
            "8/8 [==============================] - 105s 13s/step - loss: 0.0652 - accuracy: 0.9720\n",
            "Epoch 69/100\n",
            "8/8 [==============================] - 110s 14s/step - loss: 0.0788 - accuracy: 0.9631\n",
            "Epoch 70/100\n",
            "8/8 [==============================] - 99s 12s/step - loss: 0.0896 - accuracy: 0.9607\n",
            "Epoch 71/100\n",
            "8/8 [==============================] - 97s 12s/step - loss: 0.0855 - accuracy: 0.9587\n",
            "Epoch 72/100\n",
            "8/8 [==============================] - 96s 12s/step - loss: 0.1135 - accuracy: 0.9354\n",
            "Epoch 73/100\n",
            "8/8 [==============================] - 97s 12s/step - loss: 0.0888 - accuracy: 0.9622\n",
            "Epoch 74/100\n",
            "8/8 [==============================] - 89s 11s/step - loss: 0.0777 - accuracy: 0.9659\n",
            "Epoch 75/100\n",
            "8/8 [==============================] - 96s 12s/step - loss: 0.0803 - accuracy: 0.9622\n",
            "Epoch 76/100\n",
            "8/8 [==============================] - 100s 12s/step - loss: 0.0844 - accuracy: 0.9546\n",
            "Epoch 77/100\n",
            "8/8 [==============================] - 93s 11s/step - loss: 0.0916 - accuracy: 0.9533\n",
            "Epoch 78/100\n",
            "8/8 [==============================] - 88s 11s/step - loss: 0.0808 - accuracy: 0.9599\n",
            "Epoch 79/100\n",
            "8/8 [==============================] - 87s 11s/step - loss: 0.0747 - accuracy: 0.9663\n",
            "Epoch 80/100\n",
            "8/8 [==============================] - 91s 11s/step - loss: 0.0738 - accuracy: 0.9650\n",
            "Epoch 81/100\n",
            "8/8 [==============================] - 89s 11s/step - loss: 0.0811 - accuracy: 0.9591\n",
            "Epoch 82/100\n",
            "8/8 [==============================] - 89s 11s/step - loss: 0.0853 - accuracy: 0.9609\n",
            "Epoch 83/100\n",
            "8/8 [==============================] - 88s 11s/step - loss: 0.0734 - accuracy: 0.9688\n",
            "Epoch 84/100\n",
            "8/8 [==============================] - 89s 11s/step - loss: 0.1077 - accuracy: 0.9393\n",
            "Epoch 85/100\n",
            "8/8 [==============================] - 88s 11s/step - loss: 0.1024 - accuracy: 0.9562\n",
            "Epoch 86/100\n",
            "8/8 [==============================] - 90s 11s/step - loss: 0.1171 - accuracy: 0.9462\n",
            "Epoch 87/100\n",
            "8/8 [==============================] - 98s 12s/step - loss: 0.0970 - accuracy: 0.9500\n",
            "Epoch 88/100\n",
            "8/8 [==============================] - 96s 12s/step - loss: 0.0942 - accuracy: 0.9528\n",
            "Epoch 89/100\n",
            "8/8 [==============================] - 90s 11s/step - loss: 0.0693 - accuracy: 0.9732\n",
            "Epoch 90/100\n",
            "8/8 [==============================] - 87s 11s/step - loss: 0.0792 - accuracy: 0.9599\n",
            "Epoch 91/100\n",
            "8/8 [==============================] - 89s 11s/step - loss: 0.0854 - accuracy: 0.9546\n",
            "Epoch 92/100\n",
            "8/8 [==============================] - 87s 11s/step - loss: 0.0762 - accuracy: 0.9618\n",
            "Epoch 93/100\n",
            "8/8 [==============================] - 88s 11s/step - loss: 0.0765 - accuracy: 0.9615\n",
            "Epoch 94/100\n",
            "8/8 [==============================] - 88s 11s/step - loss: 0.0809 - accuracy: 0.9559\n",
            "Epoch 95/100\n",
            "8/8 [==============================] - 89s 11s/step - loss: 0.0859 - accuracy: 0.9561\n",
            "Epoch 96/100\n",
            "8/8 [==============================] - 87s 11s/step - loss: 0.0686 - accuracy: 0.9659\n",
            "Epoch 97/100\n",
            "8/8 [==============================] - 89s 11s/step - loss: 0.0694 - accuracy: 0.9656\n",
            "Epoch 98/100\n",
            "8/8 [==============================] - 89s 11s/step - loss: 0.0798 - accuracy: 0.9559\n",
            "Epoch 99/100\n",
            "8/8 [==============================] - 89s 11s/step - loss: 0.0688 - accuracy: 0.9711\n",
            "Epoch 100/100\n",
            "8/8 [==============================] - 87s 11s/step - loss: 0.0839 - accuracy: 0.9581\n"
          ],
          "name": "stdout"
        },
        {
          "output_type": "execute_result",
          "data": {
            "text/plain": [
              "<tensorflow.python.keras.callbacks.History at 0x7f951a8c9d68>"
            ]
          },
          "metadata": {
            "tags": []
          },
          "execution_count": 15
        }
      ]
    },
    {
      "cell_type": "code",
      "metadata": {
        "id": "KiO5jjjrbJX3",
        "colab": {
          "base_uri": "https://localhost:8080/"
        },
        "outputId": "14c22652-e009-4da0-df86-5f5fb413d27e"
      },
      "source": [
        "scorev = model.evaluate(X_valid, y_valid, verbose=1)\n",
        "scoret = model.evaluate(X_test, y_test, verbose=1)\n",
        "# print('Epoch: {0} | Valid: {1} | Test: {2}'.format(e, scorev, scoret))"
      ],
      "execution_count": null,
      "outputs": [
        {
          "output_type": "stream",
          "text": [
            "26/26 [==============================] - 31s 1s/step - loss: 0.0962 - accuracy: 0.9559\n",
            "1/1 [==============================] - 0s 494ms/step - loss: 0.0638 - accuracy: 1.0000\n"
          ],
          "name": "stdout"
        }
      ]
    },
    {
      "cell_type": "code",
      "metadata": {
        "id": "_RxEfEMvBgkH"
      },
      "source": [
        "# fig = plt.figure()\n",
        "# try:\n",
        "#     for e in range(nb_epoch):\n",
        "#         print('-'*40)\n",
        "#         #progbar = generic_utils.Progbar(X_train.shape[0])\n",
        "#         for b in range(10):\n",
        "#             #print(b)\n",
        "#             f = b * batch_size\n",
        "#             l = (b+1) * batch_size\n",
        "#             X_batch = X_train[f:l].astype('float32')\n",
        "#             y_batch = y_train[f:l].astype('float32')\n",
        "#             loss = model.train_on_batch(X_batch, y_batch)\n",
        "#             #print(loss)\n",
        "#             #progbar.add(X_batch.shape[0], values=[(\"train loss\", loss)])\n",
        "#         scorev = model.evaluate(X_valid, y_valid, verbose=1)\n",
        "#         scoret = model.evaluate(X_test, y_test, verbose=1)\n",
        "#         print('Epoch: {0} | Valid: {1} | Test: {2}'.format(e, scorev, scoret))\n",
        "        \n",
        "#         if e % 1 == 0:\n",
        "#             Xresult = F([X_batch[:9]])\n",
        "#             plt.clf()\n",
        "#             for i in range(9):\n",
        "#                 plt.subplot(3, 3, i+1)\n",
        "#                 image = np.squeeze(Xresult[0][i])\n",
        "#                 plt.imshow(image, cmap='gray')\n",
        "#                 plt.axis('off')\n",
        "#             fig.canvas.draw()\n",
        "#             plt.show()\n",
        "        \n",
        "# except KeyboardInterrupt:\n",
        "#     pass"
      ],
      "execution_count": null,
      "outputs": []
    },
    {
      "cell_type": "code",
      "metadata": {
        "colab": {
          "base_uri": "https://localhost:8080/"
        },
        "id": "5FfE9I4KAaKW",
        "outputId": "bc39fb51-5219-41d9-c6c5-6dac0f3fc16b"
      },
      "source": [
        "pred=model.predict(X_test[:4],verbose=1)"
      ],
      "execution_count": null,
      "outputs": [
        {
          "output_type": "stream",
          "text": [
            "1/1 [==============================] - 0s 202ms/step\n"
          ],
          "name": "stdout"
        }
      ]
    },
    {
      "cell_type": "code",
      "metadata": {
        "id": "zXe-3XFUIYsu",
        "colab": {
          "base_uri": "https://localhost:8080/"
        },
        "outputId": "7671f352-3453-493d-93fd-4a5fb55e105f"
      },
      "source": [
        "for i in X_test:\n",
        "  image = i\n",
        "  yhat = model.predict(asarray([image]))\n",
        "  print('Predicted: class=%d' % argmax(yhat))"
      ],
      "execution_count": null,
      "outputs": [
        {
          "output_type": "stream",
          "text": [
            "Predicted: class=0\n",
            "Predicted: class=0\n",
            "Predicted: class=0\n",
            "Predicted: class=0\n",
            "Predicted: class=0\n",
            "Predicted: class=0\n",
            "Predicted: class=0\n",
            "Predicted: class=0\n",
            "Predicted: class=1\n",
            "Predicted: class=1\n",
            "Predicted: class=1\n"
          ],
          "name": "stdout"
        }
      ]
    }
  ]
}